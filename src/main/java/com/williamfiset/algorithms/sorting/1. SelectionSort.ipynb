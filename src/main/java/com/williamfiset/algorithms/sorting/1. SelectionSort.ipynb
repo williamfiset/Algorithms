{
 "cells": [
  {
   "cell_type": "code",
   "execution_count": 7,
   "metadata": {},
   "outputs": [
    {
     "name": "stdout",
     "output_type": "stream",
     "text": [
      "Sorted array is :  [ 7 13 16 19 22 22 27 32 34 67 88 98 99 111 120 280 ]\n"
     ]
    }
   ],
   "source": [
    "#Selection Sort\n",
    "\n",
    "import sys \n",
    "\n",
    "#the given unsorted array\n",
    "array = [16, 22, 13, 34, 111, 19, 7, 32, 67, 98, 120, 88, 22, 27, 280, 99] \n",
    "\n",
    "# Traverse through all array elements \n",
    "for i in range(len(array)): \n",
    "\n",
    "    # Find the minimum element in remaining \n",
    "    # unsorted array \n",
    "    min_idx = i \n",
    "    for j in range(i+1, len(array)): \n",
    "        if array[min_idx] > array[j]: \n",
    "            min_idx = j \n",
    "\n",
    "    # Swap the found minimum element with \n",
    "    # the first element\n",
    "    array[i], array[min_idx] = array[min_idx], array[i] \n",
    "\n",
    "#printing the sorted array\n",
    "print (\"Sorted array is : \", \"[\", end = ' ') \n",
    "for i in range(len(array)): \n",
    "    print(array[i], end = ' ')\n",
    "print(\"]\")\n",
    "   \n",
    "\n"
   ]
  },
  {
   "cell_type": "code",
   "execution_count": null,
   "metadata": {},
   "outputs": [],
   "source": []
  }
 ],
 "metadata": {
  "kernelspec": {
   "display_name": "Python 3",
   "language": "python",
   "name": "python3"
  },
  "language_info": {
   "codemirror_mode": {
    "name": "ipython",
    "version": 3
   },
   "file_extension": ".py",
   "mimetype": "text/x-python",
   "name": "python",
   "nbconvert_exporter": "python",
   "pygments_lexer": "ipython3",
   "version": "3.8.5"
  }
 },
 "nbformat": 4,
 "nbformat_minor": 4
}
